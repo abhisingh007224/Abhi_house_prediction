{
  "nbformat": 4,
  "nbformat_minor": 0,
  "metadata": {
    "colab": {
      "name": "Untitled45.ipynb",
      "provenance": [],
      "include_colab_link": true
    },
    "kernelspec": {
      "name": "python3",
      "display_name": "Python 3"
    }
  },
  "cells": [
    {
      "cell_type": "markdown",
      "metadata": {
        "id": "view-in-github",
        "colab_type": "text"
      },
      "source": [
        "<a href=\"https://colab.research.google.com/github/abhisingh007224/Abhi_house_prediction/blob/master/Untitled45.ipynb\" target=\"_parent\"><img src=\"https://colab.research.google.com/assets/colab-badge.svg\" alt=\"Open In Colab\"/></a>"
      ]
    },
    {
      "cell_type": "code",
      "metadata": {
        "id": "xru2-B_f_8Qa",
        "colab_type": "code",
        "colab": {
          "resources": {
            "http://localhost:8080/nbextensions/google.colab/files.js": {
              "data": "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",
              "ok": true,
              "headers": [
                [
                  "content-type",
                  "application/javascript"
                ]
              ],
              "status": 200,
              "status_text": ""
            }
          },
          "base_uri": "https://localhost:8080/",
          "height": 71
        },
        "outputId": "cca95d90-30a1-455f-947f-31c4ac5259f9"
      },
      "source": [
        "from google.colab import files\n",
        "df=files.upload()"
      ],
      "execution_count": 2,
      "outputs": [
        {
          "output_type": "display_data",
          "data": {
            "text/html": [
              "\n",
              "     <input type=\"file\" id=\"files-ea3b57b6-8104-4256-8898-5e69781aa9cd\" name=\"files[]\" multiple disabled />\n",
              "     <output id=\"result-ea3b57b6-8104-4256-8898-5e69781aa9cd\">\n",
              "      Upload widget is only available when the cell has been executed in the\n",
              "      current browser session. Please rerun this cell to enable.\n",
              "      </output>\n",
              "      <script src=\"/nbextensions/google.colab/files.js\"></script> "
            ],
            "text/plain": [
              "<IPython.core.display.HTML object>"
            ]
          },
          "metadata": {
            "tags": []
          }
        },
        {
          "output_type": "stream",
          "text": [
            "Saving data_main.csv to data_main.csv\n"
          ],
          "name": "stdout"
        }
      ]
    },
    {
      "cell_type": "code",
      "metadata": {
        "id": "8_LjbTFgAfHe",
        "colab_type": "code",
        "colab": {
          "base_uri": "https://localhost:8080/",
          "height": 224
        },
        "outputId": "22ba4dc3-19c1-4679-d82c-d633f55c76db"
      },
      "source": [
        "data.head()"
      ],
      "execution_count": 4,
      "outputs": [
        {
          "output_type": "execute_result",
          "data": {
            "text/html": [
              "<div>\n",
              "<style scoped>\n",
              "    .dataframe tbody tr th:only-of-type {\n",
              "        vertical-align: middle;\n",
              "    }\n",
              "\n",
              "    .dataframe tbody tr th {\n",
              "        vertical-align: top;\n",
              "    }\n",
              "\n",
              "    .dataframe thead th {\n",
              "        text-align: right;\n",
              "    }\n",
              "</style>\n",
              "<table border=\"1\" class=\"dataframe\">\n",
              "  <thead>\n",
              "    <tr style=\"text-align: right;\">\n",
              "      <th></th>\n",
              "      <th>sample</th>\n",
              "      <th>klt</th>\n",
              "      <th>klt_jabloun</th>\n",
              "      <th>stsa</th>\n",
              "      <th>logstsa</th>\n",
              "      <th>logstsa_nest</th>\n",
              "      <th>logstsa_sap_q</th>\n",
              "      <th>weuclid</th>\n",
              "      <th>rdc</th>\n",
              "      <th>mb</th>\n",
              "      <th>wavthre</th>\n",
              "      <th>scalart</th>\n",
              "      <th>tsoukalas</th>\n",
              "      <th>unprocessed</th>\n",
              "      <th>Class</th>\n",
              "    </tr>\n",
              "  </thead>\n",
              "  <tbody>\n",
              "    <tr>\n",
              "      <th>0</th>\n",
              "      <td>sp01_babble_sn5.wav</td>\n",
              "      <td>2.713719</td>\n",
              "      <td>2.697965</td>\n",
              "      <td>2.548802</td>\n",
              "      <td>2.243176</td>\n",
              "      <td>2.525531</td>\n",
              "      <td>2.973819</td>\n",
              "      <td>2.460344</td>\n",
              "      <td>1.822907</td>\n",
              "      <td>2.635221</td>\n",
              "      <td>2.988506</td>\n",
              "      <td>2.598753</td>\n",
              "      <td>3.410298</td>\n",
              "      <td>1.285175</td>\n",
              "      <td>0</td>\n",
              "    </tr>\n",
              "    <tr>\n",
              "      <th>1</th>\n",
              "      <td>sp02_babble_sn5.wav</td>\n",
              "      <td>3.190595</td>\n",
              "      <td>3.520302</td>\n",
              "      <td>3.264706</td>\n",
              "      <td>3.111587</td>\n",
              "      <td>2.381063</td>\n",
              "      <td>4.036488</td>\n",
              "      <td>3.165254</td>\n",
              "      <td>2.951164</td>\n",
              "      <td>3.498428</td>\n",
              "      <td>3.664080</td>\n",
              "      <td>3.252884</td>\n",
              "      <td>4.218065</td>\n",
              "      <td>2.323757</td>\n",
              "      <td>0</td>\n",
              "    </tr>\n",
              "    <tr>\n",
              "      <th>2</th>\n",
              "      <td>sp03_babble_sn5.wav</td>\n",
              "      <td>3.607290</td>\n",
              "      <td>3.609455</td>\n",
              "      <td>3.528847</td>\n",
              "      <td>3.182968</td>\n",
              "      <td>3.378135</td>\n",
              "      <td>3.716647</td>\n",
              "      <td>4.307754</td>\n",
              "      <td>2.806489</td>\n",
              "      <td>3.343580</td>\n",
              "      <td>3.470879</td>\n",
              "      <td>4.033968</td>\n",
              "      <td>3.735739</td>\n",
              "      <td>2.319677</td>\n",
              "      <td>0</td>\n",
              "    </tr>\n",
              "    <tr>\n",
              "      <th>3</th>\n",
              "      <td>sp04_babble_sn5.wav</td>\n",
              "      <td>3.196171</td>\n",
              "      <td>3.410466</td>\n",
              "      <td>2.839074</td>\n",
              "      <td>2.993245</td>\n",
              "      <td>2.781261</td>\n",
              "      <td>3.825302</td>\n",
              "      <td>2.875215</td>\n",
              "      <td>2.935166</td>\n",
              "      <td>3.211637</td>\n",
              "      <td>3.459029</td>\n",
              "      <td>3.207609</td>\n",
              "      <td>3.493634</td>\n",
              "      <td>2.338680</td>\n",
              "      <td>0</td>\n",
              "    </tr>\n",
              "    <tr>\n",
              "      <th>4</th>\n",
              "      <td>sp05_babble_sn5.wav</td>\n",
              "      <td>3.563157</td>\n",
              "      <td>4.196057</td>\n",
              "      <td>2.329658</td>\n",
              "      <td>2.620310</td>\n",
              "      <td>3.160787</td>\n",
              "      <td>3.000697</td>\n",
              "      <td>2.308355</td>\n",
              "      <td>2.973973</td>\n",
              "      <td>2.959249</td>\n",
              "      <td>3.822045</td>\n",
              "      <td>3.550435</td>\n",
              "      <td>4.433117</td>\n",
              "      <td>3.486025</td>\n",
              "      <td>0</td>\n",
              "    </tr>\n",
              "  </tbody>\n",
              "</table>\n",
              "</div>"
            ],
            "text/plain": [
              "                sample       klt  klt_jabloun  ...  tsoukalas  unprocessed  Class\n",
              "0  sp01_babble_sn5.wav  2.713719     2.697965  ...   3.410298     1.285175      0\n",
              "1  sp02_babble_sn5.wav  3.190595     3.520302  ...   4.218065     2.323757      0\n",
              "2  sp03_babble_sn5.wav  3.607290     3.609455  ...   3.735739     2.319677      0\n",
              "3  sp04_babble_sn5.wav  3.196171     3.410466  ...   3.493634     2.338680      0\n",
              "4  sp05_babble_sn5.wav  3.563157     4.196057  ...   4.433117     3.486025      0\n",
              "\n",
              "[5 rows x 15 columns]"
            ]
          },
          "metadata": {
            "tags": []
          },
          "execution_count": 4
        }
      ]
    },
    {
      "cell_type": "code",
      "metadata": {
        "id": "SXmf95Nyb9Je",
        "colab_type": "code",
        "colab": {}
      },
      "source": [
        "import pandas as pd\n",
        "data=pd.read_csv('data_main.csv')"
      ],
      "execution_count": 0,
      "outputs": []
    },
    {
      "cell_type": "code",
      "metadata": {
        "id": "3MrbHaGpAhon",
        "colab_type": "code",
        "colab": {}
      },
      "source": [
        "x=data.copy()"
      ],
      "execution_count": 0,
      "outputs": []
    },
    {
      "cell_type": "code",
      "metadata": {
        "id": "MAjBBAlEAtJY",
        "colab_type": "code",
        "colab": {
          "base_uri": "https://localhost:8080/",
          "height": 224
        },
        "outputId": "dc7f935f-5de9-4cdb-a5dd-eeff702e96fd"
      },
      "source": [
        "x.head()"
      ],
      "execution_count": 6,
      "outputs": [
        {
          "output_type": "execute_result",
          "data": {
            "text/html": [
              "<div>\n",
              "<style scoped>\n",
              "    .dataframe tbody tr th:only-of-type {\n",
              "        vertical-align: middle;\n",
              "    }\n",
              "\n",
              "    .dataframe tbody tr th {\n",
              "        vertical-align: top;\n",
              "    }\n",
              "\n",
              "    .dataframe thead th {\n",
              "        text-align: right;\n",
              "    }\n",
              "</style>\n",
              "<table border=\"1\" class=\"dataframe\">\n",
              "  <thead>\n",
              "    <tr style=\"text-align: right;\">\n",
              "      <th></th>\n",
              "      <th>sample</th>\n",
              "      <th>klt</th>\n",
              "      <th>klt_jabloun</th>\n",
              "      <th>stsa</th>\n",
              "      <th>logstsa</th>\n",
              "      <th>logstsa_nest</th>\n",
              "      <th>logstsa_sap_q</th>\n",
              "      <th>weuclid</th>\n",
              "      <th>rdc</th>\n",
              "      <th>mb</th>\n",
              "      <th>wavthre</th>\n",
              "      <th>scalart</th>\n",
              "      <th>tsoukalas</th>\n",
              "      <th>unprocessed</th>\n",
              "      <th>Class</th>\n",
              "    </tr>\n",
              "  </thead>\n",
              "  <tbody>\n",
              "    <tr>\n",
              "      <th>0</th>\n",
              "      <td>sp01_babble_sn5.wav</td>\n",
              "      <td>2.713719</td>\n",
              "      <td>2.697965</td>\n",
              "      <td>2.548802</td>\n",
              "      <td>2.243176</td>\n",
              "      <td>2.525531</td>\n",
              "      <td>2.973819</td>\n",
              "      <td>2.460344</td>\n",
              "      <td>1.822907</td>\n",
              "      <td>2.635221</td>\n",
              "      <td>2.988506</td>\n",
              "      <td>2.598753</td>\n",
              "      <td>3.410298</td>\n",
              "      <td>1.285175</td>\n",
              "      <td>0</td>\n",
              "    </tr>\n",
              "    <tr>\n",
              "      <th>1</th>\n",
              "      <td>sp02_babble_sn5.wav</td>\n",
              "      <td>3.190595</td>\n",
              "      <td>3.520302</td>\n",
              "      <td>3.264706</td>\n",
              "      <td>3.111587</td>\n",
              "      <td>2.381063</td>\n",
              "      <td>4.036488</td>\n",
              "      <td>3.165254</td>\n",
              "      <td>2.951164</td>\n",
              "      <td>3.498428</td>\n",
              "      <td>3.664080</td>\n",
              "      <td>3.252884</td>\n",
              "      <td>4.218065</td>\n",
              "      <td>2.323757</td>\n",
              "      <td>0</td>\n",
              "    </tr>\n",
              "    <tr>\n",
              "      <th>2</th>\n",
              "      <td>sp03_babble_sn5.wav</td>\n",
              "      <td>3.607290</td>\n",
              "      <td>3.609455</td>\n",
              "      <td>3.528847</td>\n",
              "      <td>3.182968</td>\n",
              "      <td>3.378135</td>\n",
              "      <td>3.716647</td>\n",
              "      <td>4.307754</td>\n",
              "      <td>2.806489</td>\n",
              "      <td>3.343580</td>\n",
              "      <td>3.470879</td>\n",
              "      <td>4.033968</td>\n",
              "      <td>3.735739</td>\n",
              "      <td>2.319677</td>\n",
              "      <td>0</td>\n",
              "    </tr>\n",
              "    <tr>\n",
              "      <th>3</th>\n",
              "      <td>sp04_babble_sn5.wav</td>\n",
              "      <td>3.196171</td>\n",
              "      <td>3.410466</td>\n",
              "      <td>2.839074</td>\n",
              "      <td>2.993245</td>\n",
              "      <td>2.781261</td>\n",
              "      <td>3.825302</td>\n",
              "      <td>2.875215</td>\n",
              "      <td>2.935166</td>\n",
              "      <td>3.211637</td>\n",
              "      <td>3.459029</td>\n",
              "      <td>3.207609</td>\n",
              "      <td>3.493634</td>\n",
              "      <td>2.338680</td>\n",
              "      <td>0</td>\n",
              "    </tr>\n",
              "    <tr>\n",
              "      <th>4</th>\n",
              "      <td>sp05_babble_sn5.wav</td>\n",
              "      <td>3.563157</td>\n",
              "      <td>4.196057</td>\n",
              "      <td>2.329658</td>\n",
              "      <td>2.620310</td>\n",
              "      <td>3.160787</td>\n",
              "      <td>3.000697</td>\n",
              "      <td>2.308355</td>\n",
              "      <td>2.973973</td>\n",
              "      <td>2.959249</td>\n",
              "      <td>3.822045</td>\n",
              "      <td>3.550435</td>\n",
              "      <td>4.433117</td>\n",
              "      <td>3.486025</td>\n",
              "      <td>0</td>\n",
              "    </tr>\n",
              "  </tbody>\n",
              "</table>\n",
              "</div>"
            ],
            "text/plain": [
              "                sample       klt  klt_jabloun  ...  tsoukalas  unprocessed  Class\n",
              "0  sp01_babble_sn5.wav  2.713719     2.697965  ...   3.410298     1.285175      0\n",
              "1  sp02_babble_sn5.wav  3.190595     3.520302  ...   4.218065     2.323757      0\n",
              "2  sp03_babble_sn5.wav  3.607290     3.609455  ...   3.735739     2.319677      0\n",
              "3  sp04_babble_sn5.wav  3.196171     3.410466  ...   3.493634     2.338680      0\n",
              "4  sp05_babble_sn5.wav  3.563157     4.196057  ...   4.433117     3.486025      0\n",
              "\n",
              "[5 rows x 15 columns]"
            ]
          },
          "metadata": {
            "tags": []
          },
          "execution_count": 6
        }
      ]
    },
    {
      "cell_type": "code",
      "metadata": {
        "id": "U9W7AmwZAvbE",
        "colab_type": "code",
        "colab": {
          "base_uri": "https://localhost:8080/",
          "height": 34
        },
        "outputId": "af8efe9c-9146-4f76-84b2-e8045c2d6129"
      },
      "source": [
        "x.shape"
      ],
      "execution_count": 8,
      "outputs": [
        {
          "output_type": "execute_result",
          "data": {
            "text/plain": [
              "(240, 15)"
            ]
          },
          "metadata": {
            "tags": []
          },
          "execution_count": 8
        }
      ]
    },
    {
      "cell_type": "code",
      "metadata": {
        "id": "95Jy9yMhA2fy",
        "colab_type": "code",
        "colab": {
          "base_uri": "https://localhost:8080/",
          "height": 85
        },
        "outputId": "76f61a0d-23da-4b2d-e644-cc027a8a3f74"
      },
      "source": [
        "x.columns"
      ],
      "execution_count": 17,
      "outputs": [
        {
          "output_type": "execute_result",
          "data": {
            "text/plain": [
              "Index(['sample', 'klt', 'klt_jabloun', 'stsa', 'logstsa', 'logstsa_nest',\n",
              "       'logstsa_sap_q', 'weuclid', 'rdc', 'mb', 'wavthre', 'scalart',\n",
              "       'tsoukalas', 'unprocessed', 'Class'],\n",
              "      dtype='object')"
            ]
          },
          "metadata": {
            "tags": []
          },
          "execution_count": 17
        }
      ]
    },
    {
      "cell_type": "code",
      "metadata": {
        "id": "gFraad4zDK5W",
        "colab_type": "code",
        "colab": {
          "base_uri": "https://localhost:8080/",
          "height": 289
        },
        "outputId": "017e550b-ccd5-4705-99dc-903a40282cac"
      },
      "source": [
        "x.isnull().sum()"
      ],
      "execution_count": 20,
      "outputs": [
        {
          "output_type": "execute_result",
          "data": {
            "text/plain": [
              "sample           0\n",
              "klt              0\n",
              "klt_jabloun      0\n",
              "stsa             0\n",
              "logstsa          0\n",
              "logstsa_nest     0\n",
              "logstsa_sap_q    0\n",
              "weuclid          0\n",
              "rdc              0\n",
              "mb               0\n",
              "wavthre          0\n",
              "scalart          0\n",
              "tsoukalas        0\n",
              "unprocessed      0\n",
              "Class            0\n",
              "dtype: int64"
            ]
          },
          "metadata": {
            "tags": []
          },
          "execution_count": 20
        }
      ]
    },
    {
      "cell_type": "markdown",
      "metadata": {
        "id": "bAXeGSHFDPOx",
        "colab_type": "text"
      },
      "source": [
        "Data is clean so no need to fill missing values"
      ]
    },
    {
      "cell_type": "code",
      "metadata": {
        "id": "9UzQefTnBrqH",
        "colab_type": "code",
        "colab": {}
      },
      "source": [
        "X=x[['klt', 'klt_jabloun', 'stsa', 'logstsa', 'logstsa_nest',\n",
        "       'logstsa_sap_q', 'weuclid', 'rdc', 'mb', 'wavthre', 'scalart',\n",
        "       'tsoukalas', 'unprocessed']]\n",
        "y=x['Class']"
      ],
      "execution_count": 0,
      "outputs": []
    },
    {
      "cell_type": "code",
      "metadata": {
        "id": "D9ZmBgn4B4RK",
        "colab_type": "code",
        "colab": {
          "base_uri": "https://localhost:8080/",
          "height": 119
        },
        "outputId": "09912988-5705-4bb1-eb04-3dade244e103"
      },
      "source": [
        "y.head()"
      ],
      "execution_count": 16,
      "outputs": [
        {
          "output_type": "execute_result",
          "data": {
            "text/plain": [
              "0    0\n",
              "1    0\n",
              "2    0\n",
              "3    0\n",
              "4    0\n",
              "Name: Class, dtype: int64"
            ]
          },
          "metadata": {
            "tags": []
          },
          "execution_count": 16
        }
      ]
    },
    {
      "cell_type": "code",
      "metadata": {
        "id": "ZLiSwTKCCpxB",
        "colab_type": "code",
        "colab": {
          "base_uri": "https://localhost:8080/",
          "height": 204
        },
        "outputId": "eff0836a-2b55-4a57-e324-15c2b5ccaec1"
      },
      "source": [
        "X.head()"
      ],
      "execution_count": 19,
      "outputs": [
        {
          "output_type": "execute_result",
          "data": {
            "text/html": [
              "<div>\n",
              "<style scoped>\n",
              "    .dataframe tbody tr th:only-of-type {\n",
              "        vertical-align: middle;\n",
              "    }\n",
              "\n",
              "    .dataframe tbody tr th {\n",
              "        vertical-align: top;\n",
              "    }\n",
              "\n",
              "    .dataframe thead th {\n",
              "        text-align: right;\n",
              "    }\n",
              "</style>\n",
              "<table border=\"1\" class=\"dataframe\">\n",
              "  <thead>\n",
              "    <tr style=\"text-align: right;\">\n",
              "      <th></th>\n",
              "      <th>klt</th>\n",
              "      <th>klt_jabloun</th>\n",
              "      <th>stsa</th>\n",
              "      <th>logstsa</th>\n",
              "      <th>logstsa_nest</th>\n",
              "      <th>logstsa_sap_q</th>\n",
              "      <th>weuclid</th>\n",
              "      <th>rdc</th>\n",
              "      <th>mb</th>\n",
              "      <th>wavthre</th>\n",
              "      <th>scalart</th>\n",
              "      <th>tsoukalas</th>\n",
              "      <th>unprocessed</th>\n",
              "    </tr>\n",
              "  </thead>\n",
              "  <tbody>\n",
              "    <tr>\n",
              "      <th>0</th>\n",
              "      <td>2.713719</td>\n",
              "      <td>2.697965</td>\n",
              "      <td>2.548802</td>\n",
              "      <td>2.243176</td>\n",
              "      <td>2.525531</td>\n",
              "      <td>2.973819</td>\n",
              "      <td>2.460344</td>\n",
              "      <td>1.822907</td>\n",
              "      <td>2.635221</td>\n",
              "      <td>2.988506</td>\n",
              "      <td>2.598753</td>\n",
              "      <td>3.410298</td>\n",
              "      <td>1.285175</td>\n",
              "    </tr>\n",
              "    <tr>\n",
              "      <th>1</th>\n",
              "      <td>3.190595</td>\n",
              "      <td>3.520302</td>\n",
              "      <td>3.264706</td>\n",
              "      <td>3.111587</td>\n",
              "      <td>2.381063</td>\n",
              "      <td>4.036488</td>\n",
              "      <td>3.165254</td>\n",
              "      <td>2.951164</td>\n",
              "      <td>3.498428</td>\n",
              "      <td>3.664080</td>\n",
              "      <td>3.252884</td>\n",
              "      <td>4.218065</td>\n",
              "      <td>2.323757</td>\n",
              "    </tr>\n",
              "    <tr>\n",
              "      <th>2</th>\n",
              "      <td>3.607290</td>\n",
              "      <td>3.609455</td>\n",
              "      <td>3.528847</td>\n",
              "      <td>3.182968</td>\n",
              "      <td>3.378135</td>\n",
              "      <td>3.716647</td>\n",
              "      <td>4.307754</td>\n",
              "      <td>2.806489</td>\n",
              "      <td>3.343580</td>\n",
              "      <td>3.470879</td>\n",
              "      <td>4.033968</td>\n",
              "      <td>3.735739</td>\n",
              "      <td>2.319677</td>\n",
              "    </tr>\n",
              "    <tr>\n",
              "      <th>3</th>\n",
              "      <td>3.196171</td>\n",
              "      <td>3.410466</td>\n",
              "      <td>2.839074</td>\n",
              "      <td>2.993245</td>\n",
              "      <td>2.781261</td>\n",
              "      <td>3.825302</td>\n",
              "      <td>2.875215</td>\n",
              "      <td>2.935166</td>\n",
              "      <td>3.211637</td>\n",
              "      <td>3.459029</td>\n",
              "      <td>3.207609</td>\n",
              "      <td>3.493634</td>\n",
              "      <td>2.338680</td>\n",
              "    </tr>\n",
              "    <tr>\n",
              "      <th>4</th>\n",
              "      <td>3.563157</td>\n",
              "      <td>4.196057</td>\n",
              "      <td>2.329658</td>\n",
              "      <td>2.620310</td>\n",
              "      <td>3.160787</td>\n",
              "      <td>3.000697</td>\n",
              "      <td>2.308355</td>\n",
              "      <td>2.973973</td>\n",
              "      <td>2.959249</td>\n",
              "      <td>3.822045</td>\n",
              "      <td>3.550435</td>\n",
              "      <td>4.433117</td>\n",
              "      <td>3.486025</td>\n",
              "    </tr>\n",
              "  </tbody>\n",
              "</table>\n",
              "</div>"
            ],
            "text/plain": [
              "        klt  klt_jabloun      stsa  ...   scalart  tsoukalas  unprocessed\n",
              "0  2.713719     2.697965  2.548802  ...  2.598753   3.410298     1.285175\n",
              "1  3.190595     3.520302  3.264706  ...  3.252884   4.218065     2.323757\n",
              "2  3.607290     3.609455  3.528847  ...  4.033968   3.735739     2.319677\n",
              "3  3.196171     3.410466  2.839074  ...  3.207609   3.493634     2.338680\n",
              "4  3.563157     4.196057  2.329658  ...  3.550435   4.433117     3.486025\n",
              "\n",
              "[5 rows x 13 columns]"
            ]
          },
          "metadata": {
            "tags": []
          },
          "execution_count": 19
        }
      ]
    },
    {
      "cell_type": "code",
      "metadata": {
        "id": "BMFNSPGdDB61",
        "colab_type": "code",
        "colab": {}
      },
      "source": [
        "from sklearn.model_selection import train_test_split\n",
        "X_train, X_test, y_train, y_test = train_test_split(X, y, test_size = 0.25, random_state = 0)"
      ],
      "execution_count": 0,
      "outputs": []
    },
    {
      "cell_type": "code",
      "metadata": {
        "id": "-Z6cvgRODiJu",
        "colab_type": "code",
        "colab": {}
      },
      "source": [
        "from sklearn.preprocessing import StandardScaler\n",
        "sc = StandardScaler()\n",
        "X_train = sc.fit_transform(X_train)\n",
        "X_test = sc.transform(X_test)"
      ],
      "execution_count": 0,
      "outputs": []
    },
    {
      "cell_type": "code",
      "metadata": {
        "id": "pUqQZBlbDt9o",
        "colab_type": "code",
        "colab": {
          "base_uri": "https://localhost:8080/",
          "height": 136
        },
        "outputId": "51f973b9-3711-4a2a-e597-62e0b78b607d"
      },
      "source": [
        "from sklearn.ensemble import RandomForestClassifier\n",
        "classifier = RandomForestClassifier(n_estimators=100,random_state=2)\n",
        "classifier.fit(X_train, y_train)"
      ],
      "execution_count": 105,
      "outputs": [
        {
          "output_type": "execute_result",
          "data": {
            "text/plain": [
              "RandomForestClassifier(bootstrap=True, class_weight=None, criterion='gini',\n",
              "                       max_depth=None, max_features='auto', max_leaf_nodes=None,\n",
              "                       min_impurity_decrease=0.0, min_impurity_split=None,\n",
              "                       min_samples_leaf=1, min_samples_split=2,\n",
              "                       min_weight_fraction_leaf=0.0, n_estimators=100,\n",
              "                       n_jobs=None, oob_score=False, random_state=2, verbose=0,\n",
              "                       warm_start=False)"
            ]
          },
          "metadata": {
            "tags": []
          },
          "execution_count": 105
        }
      ]
    },
    {
      "cell_type": "code",
      "metadata": {
        "id": "WIkS3Ds0DwaE",
        "colab_type": "code",
        "colab": {}
      },
      "source": [
        "\n",
        "prediction_validation = classifier.predict(X_test)"
      ],
      "execution_count": 0,
      "outputs": []
    },
    {
      "cell_type": "code",
      "metadata": {
        "id": "_h40iz65L85A",
        "colab_type": "code",
        "colab": {
          "base_uri": "https://localhost:8080/",
          "height": 34
        },
        "outputId": "97077a44-ad9c-4931-92c9-673ef897591e"
      },
      "source": [
        "from sklearn.naive_bayes import GaussianNB \n",
        "gnb = GaussianNB().fit(X_train, y_train) \n",
        "gnb_predictions = gnb.predict(X_test) \n",
        "  \n",
        "# accuracy on X_test \n",
        "accuracy = gnb.score(X_test, y_test) \n",
        "print (accuracy )"
      ],
      "execution_count": 110,
      "outputs": [
        {
          "output_type": "stream",
          "text": [
            "0.31666666666666665\n"
          ],
          "name": "stdout"
        }
      ]
    },
    {
      "cell_type": "code",
      "metadata": {
        "id": "jgs21sOeM8I5",
        "colab_type": "code",
        "colab": {
          "base_uri": "https://localhost:8080/",
          "height": 34
        },
        "outputId": "b130fa25-a078-4876-f186-ada15067c2f8"
      },
      "source": [
        "# training a linear SVM classifier \n",
        "from sklearn.svm import SVC \n",
        "svm_model_linear = SVC(kernel = 'linear', C = 1).fit(X_train, y_train) \n",
        "svm_predictions = svm_model_linear.predict(X_test) \n",
        "  \n",
        "# model accuracy for X_test   \n",
        "accuracy = svm_model_linear.score(X_test, y_test) \n",
        "print(accuracy)  "
      ],
      "execution_count": 153,
      "outputs": [
        {
          "output_type": "stream",
          "text": [
            "0.31666666666666665\n"
          ],
          "name": "stdout"
        }
      ]
    },
    {
      "cell_type": "code",
      "metadata": {
        "id": "pbRxlqhwcRo_",
        "colab_type": "code",
        "colab": {
          "base_uri": "https://localhost:8080/",
          "height": 972
        },
        "outputId": "cdcacf48-efc2-4eb9-e368-8d2318a62895"
      },
      "source": [
        "pip install optuna"
      ],
      "execution_count": 182,
      "outputs": [
        {
          "output_type": "stream",
          "text": [
            "Collecting optuna\n",
            "\u001b[?25l  Downloading https://files.pythonhosted.org/packages/d4/6a/4d80b3014797cf318a5252afb27031e9e7502854fb7930f27db0ee10bb75/optuna-0.19.0.tar.gz (126kB)\n",
            "\u001b[K     |████████████████████████████████| 133kB 2.8MB/s \n",
            "\u001b[?25hCollecting alembic\n",
            "\u001b[?25l  Downloading https://files.pythonhosted.org/packages/84/64/493c45119dce700a4b9eeecc436ef9e8835ab67bae6414f040cdc7b58f4b/alembic-1.3.1.tar.gz (1.1MB)\n",
            "\u001b[K     |████████████████████████████████| 1.1MB 42.3MB/s \n",
            "\u001b[?25hCollecting cliff\n",
            "\u001b[?25l  Downloading https://files.pythonhosted.org/packages/f6/a9/e976ba91e57043c4b6add2c394e6d1ffc26712c694379c3fe72f942d2440/cliff-2.16.0-py2.py3-none-any.whl (78kB)\n",
            "\u001b[K     |████████████████████████████████| 81kB 10.7MB/s \n",
            "\u001b[?25hCollecting colorlog\n",
            "  Downloading https://files.pythonhosted.org/packages/68/4d/892728b0c14547224f0ac40884e722a3d00cb54e7a146aea0b3186806c9e/colorlog-4.0.2-py2.py3-none-any.whl\n",
            "Requirement already satisfied: numpy in /usr/local/lib/python3.6/dist-packages (from optuna) (1.17.4)\n",
            "Requirement already satisfied: scipy in /usr/local/lib/python3.6/dist-packages (from optuna) (1.3.3)\n",
            "Requirement already satisfied: six in /usr/local/lib/python3.6/dist-packages (from optuna) (1.12.0)\n",
            "Requirement already satisfied: sqlalchemy>=1.1.0 in /usr/local/lib/python3.6/dist-packages (from optuna) (1.3.11)\n",
            "Requirement already satisfied: tqdm in /usr/local/lib/python3.6/dist-packages (from optuna) (4.28.1)\n",
            "Requirement already satisfied: typing in /usr/local/lib/python3.6/dist-packages (from optuna) (3.6.6)\n",
            "Collecting Mako\n",
            "\u001b[?25l  Downloading https://files.pythonhosted.org/packages/b0/3c/8dcd6883d009f7cae0f3157fb53e9afb05a0d3d33b3db1268ec2e6f4a56b/Mako-1.1.0.tar.gz (463kB)\n",
            "\u001b[K     |████████████████████████████████| 471kB 44.0MB/s \n",
            "\u001b[?25hCollecting python-editor>=0.3\n",
            "  Downloading https://files.pythonhosted.org/packages/c6/d3/201fc3abe391bbae6606e6f1d598c15d367033332bd54352b12f35513717/python_editor-1.0.4-py3-none-any.whl\n",
            "Requirement already satisfied: python-dateutil in /usr/local/lib/python3.6/dist-packages (from alembic->optuna) (2.6.1)\n",
            "Requirement already satisfied: pyparsing>=2.1.0 in /usr/local/lib/python3.6/dist-packages (from cliff->optuna) (2.4.5)\n",
            "Requirement already satisfied: PrettyTable<0.8,>=0.7.2 in /usr/local/lib/python3.6/dist-packages (from cliff->optuna) (0.7.2)\n",
            "Requirement already satisfied: PyYAML>=3.12 in /usr/local/lib/python3.6/dist-packages (from cliff->optuna) (3.13)\n",
            "Collecting stevedore>=1.20.0\n",
            "\u001b[?25l  Downloading https://files.pythonhosted.org/packages/b1/e1/f5ddbd83f60b03f522f173c03e406c1bff8343f0232a292ac96aa633b47a/stevedore-1.31.0-py2.py3-none-any.whl (43kB)\n",
            "\u001b[K     |████████████████████████████████| 51kB 6.2MB/s \n",
            "\u001b[?25hCollecting cmd2!=0.8.3,<0.9.0,>=0.8.0\n",
            "\u001b[?25l  Downloading https://files.pythonhosted.org/packages/e9/40/a71caa2aaff10c73612a7106e2d35f693e85b8cf6e37ab0774274bca3cf9/cmd2-0.8.9-py2.py3-none-any.whl (53kB)\n",
            "\u001b[K     |████████████████████████████████| 61kB 8.1MB/s \n",
            "\u001b[?25hCollecting pbr!=2.1.0,>=2.0.0\n",
            "\u001b[?25l  Downloading https://files.pythonhosted.org/packages/7a/db/a968fd7beb9fe06901c1841cb25c9ccb666ca1b9a19b114d1bbedf1126fc/pbr-5.4.4-py2.py3-none-any.whl (110kB)\n",
            "\u001b[K     |████████████████████████████████| 112kB 49.6MB/s \n",
            "\u001b[?25hRequirement already satisfied: MarkupSafe>=0.9.2 in /usr/local/lib/python3.6/dist-packages (from Mako->alembic->optuna) (1.1.1)\n",
            "Requirement already satisfied: wcwidth; sys_platform != \"win32\" in /usr/local/lib/python3.6/dist-packages (from cmd2!=0.8.3,<0.9.0,>=0.8.0->cliff->optuna) (0.1.7)\n",
            "Collecting pyperclip\n",
            "  Downloading https://files.pythonhosted.org/packages/2d/0f/4eda562dffd085945d57c2d9a5da745cfb5228c02bc90f2c74bbac746243/pyperclip-1.7.0.tar.gz\n",
            "Building wheels for collected packages: optuna, alembic, Mako, pyperclip\n",
            "  Building wheel for optuna (setup.py) ... \u001b[?25l\u001b[?25hdone\n",
            "  Created wheel for optuna: filename=optuna-0.19.0-cp36-none-any.whl size=170198 sha256=04ea691eff572fa7337f244c282f63bf999443d3014e53b682bbc231e5c04544\n",
            "  Stored in directory: /root/.cache/pip/wheels/49/bf/47/090a43457caeff74397397da1c98a8aaed685257c16a5ba1f0\n",
            "  Building wheel for alembic (setup.py) ... \u001b[?25l\u001b[?25hdone\n",
            "  Created wheel for alembic: filename=alembic-1.3.1-py2.py3-none-any.whl size=144523 sha256=e745bc27bfb09692534661521b50028a4ac9a75d6156698f38e505acb920508e\n",
            "  Stored in directory: /root/.cache/pip/wheels/b2/d4/19/5ab879d30af7cbc79e6dcc1d421795b1aa9d78f455b0412ef7\n",
            "  Building wheel for Mako (setup.py) ... \u001b[?25l\u001b[?25hdone\n",
            "  Created wheel for Mako: filename=Mako-1.1.0-cp36-none-any.whl size=75363 sha256=89de46bec42af7282921b80220f066b0f8cf576ce7a6192403dba8b6c422f307\n",
            "  Stored in directory: /root/.cache/pip/wheels/98/32/7b/a291926643fc1d1e02593e0d9e247c5a866a366b8343b7aa27\n",
            "  Building wheel for pyperclip (setup.py) ... \u001b[?25l\u001b[?25hdone\n",
            "  Created wheel for pyperclip: filename=pyperclip-1.7.0-cp36-none-any.whl size=8359 sha256=002691285e9e9a8abfe576056fcf2d34451112c17180c6eb2cd1f237f218cbbc\n",
            "  Stored in directory: /root/.cache/pip/wheels/92/f0/ac/2ba2972034e98971c3654ece337ac61e546bdeb34ca960dc8c\n",
            "Successfully built optuna alembic Mako pyperclip\n",
            "Installing collected packages: Mako, python-editor, alembic, pbr, stevedore, pyperclip, cmd2, cliff, colorlog, optuna\n",
            "Successfully installed Mako-1.1.0 alembic-1.3.1 cliff-2.16.0 cmd2-0.8.9 colorlog-4.0.2 optuna-0.19.0 pbr-5.4.4 pyperclip-1.7.0 python-editor-1.0.4 stevedore-1.31.0\n"
          ],
          "name": "stdout"
        }
      ]
    },
    {
      "cell_type": "markdown",
      "metadata": {
        "id": "iNK4_7PSb3zP",
        "colab_type": "text"
      },
      "source": [
        ""
      ]
    },
    {
      "cell_type": "code",
      "metadata": {
        "id": "HexyyFObb4DC",
        "colab_type": "code",
        "colab": {
          "base_uri": "https://localhost:8080/",
          "height": 1000
        },
        "outputId": "7a9d964c-c2ac-4ee2-80b5-ad42434f6ffc"
      },
      "source": [
        "import sklearn.ensemble\n",
        "import sklearn.model_selection\n",
        "import sklearn.svm\n",
        "\n",
        "import optuna\n",
        "\n",
        "\n",
        "def objective(trial):\n",
        "    iris = pd.read_csv('data_main.csv')\n",
        "    x=iris[['klt', 'klt_jabloun', 'stsa', 'logstsa', 'logstsa_nest',\n",
        "       'logstsa_sap_q', 'weuclid', 'rdc', 'mb', 'wavthre', 'scalart',\n",
        "       'tsoukalas', 'unprocessed']]\n",
        "    y=iris['Class']\n",
        "\n",
        "    from sklearn.preprocessing import StandardScaler\n",
        "    sc = StandardScaler()\n",
        "    X = sc.fit_transform(x)\n",
        "    \n",
        "\n",
        "    classifier_name = trial.suggest_categorical('classifier', ['SVC', 'RandomForest'])\n",
        "    if classifier_name == 'SVC':\n",
        "        svc_c = trial.suggest_loguniform('svc_c', 1e-10, 1e10)\n",
        "        classifier_obj = sklearn.svm.SVC(C=svc_c, gamma='auto')\n",
        "    else:\n",
        "        rf_max_depth = int(trial.suggest_loguniform('rf_max_depth', 2, 32))\n",
        "        classifier_obj = sklearn.ensemble.RandomForestClassifier(\n",
        "            max_depth=rf_max_depth, n_estimators=100)\n",
        "\n",
        "    score = sklearn.model_selection.cross_val_score(classifier_obj, X, y, n_jobs=-1, cv=3)\n",
        "    accuracy = score.mean()\n",
        "    return accuracy\n",
        "\n",
        "\n",
        "if __name__ == '__main__':\n",
        "    study = optuna.create_study(direction='maximize')\n",
        "    study.optimize(objective, n_trials=500)\n",
        "    print(study.best_trial)"
      ],
      "execution_count": 187,
      "outputs": [
        {
          "output_type": "stream",
          "text": [
            "\u001b[32m[I 2019-12-12 09:53:17,674]\u001b[0m Finished trial#0 resulted in value: 0.20833333333333334. Current best value is 0.20833333333333334 with parameters: {'classifier': 'SVC', 'svc_c': 1.204237139351577e-09}.\u001b[0m\n",
            "\u001b[32m[I 2019-12-12 09:53:19,708]\u001b[0m Finished trial#1 resulted in value: 0.20833333333333334. Current best value is 0.20833333333333334 with parameters: {'classifier': 'SVC', 'svc_c': 1.204237139351577e-09}.\u001b[0m\n",
            "\u001b[32m[I 2019-12-12 09:53:22,147]\u001b[0m Finished trial#2 resulted in value: 0.19583333333333333. Current best value is 0.20833333333333334 with parameters: {'classifier': 'SVC', 'svc_c': 1.204237139351577e-09}.\u001b[0m\n",
            "\u001b[32m[I 2019-12-12 09:53:24,206]\u001b[0m Finished trial#3 resulted in value: 0.20833333333333334. Current best value is 0.20833333333333334 with parameters: {'classifier': 'SVC', 'svc_c': 1.204237139351577e-09}.\u001b[0m\n",
            "\u001b[32m[I 2019-12-12 09:53:26,677]\u001b[0m Finished trial#4 resulted in value: 0.1875. Current best value is 0.20833333333333334 with parameters: {'classifier': 'SVC', 'svc_c': 1.204237139351577e-09}.\u001b[0m\n",
            "\u001b[32m[I 2019-12-12 09:53:29,104]\u001b[0m Finished trial#5 resulted in value: 0.17916666666666667. Current best value is 0.20833333333333334 with parameters: {'classifier': 'SVC', 'svc_c': 1.204237139351577e-09}.\u001b[0m\n",
            "\u001b[32m[I 2019-12-12 09:53:31,173]\u001b[0m Finished trial#6 resulted in value: 0.22916666666666666. Current best value is 0.22916666666666666 with parameters: {'classifier': 'SVC', 'svc_c': 744.9109269929413}.\u001b[0m\n",
            "\u001b[32m[I 2019-12-12 09:53:33,663]\u001b[0m Finished trial#7 resulted in value: 0.19583333333333333. Current best value is 0.22916666666666666 with parameters: {'classifier': 'SVC', 'svc_c': 744.9109269929413}.\u001b[0m\n",
            "\u001b[32m[I 2019-12-12 09:53:36,119]\u001b[0m Finished trial#8 resulted in value: 0.18333333333333335. Current best value is 0.22916666666666666 with parameters: {'classifier': 'SVC', 'svc_c': 744.9109269929413}.\u001b[0m\n",
            "\u001b[32m[I 2019-12-12 09:53:38,147]\u001b[0m Finished trial#9 resulted in value: 0.22916666666666666. Current best value is 0.22916666666666666 with parameters: {'classifier': 'SVC', 'svc_c': 744.9109269929413}.\u001b[0m\n",
            "\u001b[32m[I 2019-12-12 09:53:40,182]\u001b[0m Finished trial#10 resulted in value: 0.26666666666666666. Current best value is 0.26666666666666666 with parameters: {'classifier': 'SVC', 'svc_c': 1.767606972354409}.\u001b[0m\n",
            "\u001b[32m[I 2019-12-12 09:53:42,221]\u001b[0m Finished trial#11 resulted in value: 0.22916666666666666. Current best value is 0.26666666666666666 with parameters: {'classifier': 'SVC', 'svc_c': 1.767606972354409}.\u001b[0m\n",
            "\u001b[32m[I 2019-12-12 09:53:44,264]\u001b[0m Finished trial#12 resulted in value: 0.26666666666666666. Current best value is 0.26666666666666666 with parameters: {'classifier': 'SVC', 'svc_c': 1.767606972354409}.\u001b[0m\n",
            "\u001b[32m[I 2019-12-12 09:53:46,351]\u001b[0m Finished trial#13 resulted in value: 0.20833333333333334. Current best value is 0.26666666666666666 with parameters: {'classifier': 'SVC', 'svc_c': 1.767606972354409}.\u001b[0m\n",
            "\u001b[32m[I 2019-12-12 09:53:48,385]\u001b[0m Finished trial#14 resulted in value: 0.22916666666666666. Current best value is 0.26666666666666666 with parameters: {'classifier': 'SVC', 'svc_c': 1.767606972354409}.\u001b[0m\n",
            "\u001b[32m[I 2019-12-12 09:53:50,426]\u001b[0m Finished trial#15 resulted in value: 0.22916666666666666. Current best value is 0.26666666666666666 with parameters: {'classifier': 'SVC', 'svc_c': 1.767606972354409}.\u001b[0m\n",
            "\u001b[32m[I 2019-12-12 09:53:52,476]\u001b[0m Finished trial#16 resulted in value: 0.20833333333333334. Current best value is 0.26666666666666666 with parameters: {'classifier': 'SVC', 'svc_c': 1.767606972354409}.\u001b[0m\n",
            "\u001b[32m[I 2019-12-12 09:53:54,542]\u001b[0m Finished trial#17 resulted in value: 0.20833333333333334. Current best value is 0.26666666666666666 with parameters: {'classifier': 'SVC', 'svc_c': 1.767606972354409}.\u001b[0m\n",
            "\u001b[32m[I 2019-12-12 09:53:56,594]\u001b[0m Finished trial#18 resulted in value: 0.22916666666666666. Current best value is 0.26666666666666666 with parameters: {'classifier': 'SVC', 'svc_c': 1.767606972354409}.\u001b[0m\n",
            "\u001b[32m[I 2019-12-12 09:53:58,632]\u001b[0m Finished trial#19 resulted in value: 0.25000000000000006. Current best value is 0.26666666666666666 with parameters: {'classifier': 'SVC', 'svc_c': 1.767606972354409}.\u001b[0m\n",
            "\u001b[32m[I 2019-12-12 09:54:00,670]\u001b[0m Finished trial#20 resulted in value: 0.20833333333333334. Current best value is 0.26666666666666666 with parameters: {'classifier': 'SVC', 'svc_c': 1.767606972354409}.\u001b[0m\n",
            "\u001b[32m[I 2019-12-12 09:54:02,759]\u001b[0m Finished trial#21 resulted in value: 0.2708333333333333. Current best value is 0.2708333333333333 with parameters: {'classifier': 'SVC', 'svc_c': 2.0092462302817884}.\u001b[0m\n",
            "\u001b[32m[I 2019-12-12 09:54:04,812]\u001b[0m Finished trial#22 resulted in value: 0.22916666666666666. Current best value is 0.2708333333333333 with parameters: {'classifier': 'SVC', 'svc_c': 2.0092462302817884}.\u001b[0m\n",
            "\u001b[32m[I 2019-12-12 09:54:06,833]\u001b[0m Finished trial#23 resulted in value: 0.20833333333333334. Current best value is 0.2708333333333333 with parameters: {'classifier': 'SVC', 'svc_c': 2.0092462302817884}.\u001b[0m\n",
            "\u001b[32m[I 2019-12-12 09:54:08,867]\u001b[0m Finished trial#24 resulted in value: 0.22916666666666666. Current best value is 0.2708333333333333 with parameters: {'classifier': 'SVC', 'svc_c': 2.0092462302817884}.\u001b[0m\n",
            "\u001b[32m[I 2019-12-12 09:54:10,913]\u001b[0m Finished trial#25 resulted in value: 0.20833333333333334. Current best value is 0.2708333333333333 with parameters: {'classifier': 'SVC', 'svc_c': 2.0092462302817884}.\u001b[0m\n",
            "\u001b[32m[I 2019-12-12 09:54:12,993]\u001b[0m Finished trial#26 resulted in value: 0.26666666666666666. Current best value is 0.2708333333333333 with parameters: {'classifier': 'SVC', 'svc_c': 2.0092462302817884}.\u001b[0m\n",
            "\u001b[32m[I 2019-12-12 09:54:15,073]\u001b[0m Finished trial#27 resulted in value: 0.22916666666666666. Current best value is 0.2708333333333333 with parameters: {'classifier': 'SVC', 'svc_c': 2.0092462302817884}.\u001b[0m\n",
            "\u001b[32m[I 2019-12-12 09:54:17,137]\u001b[0m Finished trial#28 resulted in value: 0.2125. Current best value is 0.2708333333333333 with parameters: {'classifier': 'SVC', 'svc_c': 2.0092462302817884}.\u001b[0m\n",
            "\u001b[32m[I 2019-12-12 09:54:19,206]\u001b[0m Finished trial#29 resulted in value: 0.20833333333333334. Current best value is 0.2708333333333333 with parameters: {'classifier': 'SVC', 'svc_c': 2.0092462302817884}.\u001b[0m\n",
            "\u001b[32m[I 2019-12-12 09:54:21,271]\u001b[0m Finished trial#30 resulted in value: 0.22916666666666666. Current best value is 0.2708333333333333 with parameters: {'classifier': 'SVC', 'svc_c': 2.0092462302817884}.\u001b[0m\n",
            "\u001b[32m[I 2019-12-12 09:54:23,315]\u001b[0m Finished trial#31 resulted in value: 0.2791666666666666. Current best value is 0.2791666666666666 with parameters: {'classifier': 'SVC', 'svc_c': 2.328258225936169}.\u001b[0m\n",
            "\u001b[32m[I 2019-12-12 09:54:25,378]\u001b[0m Finished trial#32 resulted in value: 0.20833333333333334. Current best value is 0.2791666666666666 with parameters: {'classifier': 'SVC', 'svc_c': 2.328258225936169}.\u001b[0m\n",
            "\u001b[32m[I 2019-12-12 09:54:27,416]\u001b[0m Finished trial#33 resulted in value: 0.2333333333333333. Current best value is 0.2791666666666666 with parameters: {'classifier': 'SVC', 'svc_c': 2.328258225936169}.\u001b[0m\n",
            "\u001b[32m[I 2019-12-12 09:54:29,489]\u001b[0m Finished trial#34 resulted in value: 0.20833333333333334. Current best value is 0.2791666666666666 with parameters: {'classifier': 'SVC', 'svc_c': 2.328258225936169}.\u001b[0m\n",
            "\u001b[32m[I 2019-12-12 09:54:31,543]\u001b[0m Finished trial#35 resulted in value: 0.22916666666666666. Current best value is 0.2791666666666666 with parameters: {'classifier': 'SVC', 'svc_c': 2.328258225936169}.\u001b[0m\n",
            "\u001b[32m[I 2019-12-12 09:54:34,046]\u001b[0m Finished trial#36 resulted in value: 0.20833333333333334. Current best value is 0.2791666666666666 with parameters: {'classifier': 'SVC', 'svc_c': 2.328258225936169}.\u001b[0m\n",
            "\u001b[32m[I 2019-12-12 09:54:36,116]\u001b[0m Finished trial#37 resulted in value: 0.27499999999999997. Current best value is 0.2791666666666666 with parameters: {'classifier': 'SVC', 'svc_c': 2.328258225936169}.\u001b[0m\n",
            "\u001b[32m[I 2019-12-12 09:54:38,143]\u001b[0m Finished trial#38 resulted in value: 0.20833333333333334. Current best value is 0.2791666666666666 with parameters: {'classifier': 'SVC', 'svc_c': 2.328258225936169}.\u001b[0m\n",
            "\u001b[32m[I 2019-12-12 09:54:40,571]\u001b[0m Finished trial#39 resulted in value: 0.19999999999999998. Current best value is 0.2791666666666666 with parameters: {'classifier': 'SVC', 'svc_c': 2.328258225936169}.\u001b[0m\n",
            "\u001b[32m[I 2019-12-12 09:54:42,640]\u001b[0m Finished trial#40 resulted in value: 0.20833333333333334. Current best value is 0.2791666666666666 with parameters: {'classifier': 'SVC', 'svc_c': 2.328258225936169}.\u001b[0m\n",
            "\u001b[32m[I 2019-12-12 09:54:44,690]\u001b[0m Finished trial#41 resulted in value: 0.22916666666666666. Current best value is 0.2791666666666666 with parameters: {'classifier': 'SVC', 'svc_c': 2.328258225936169}.\u001b[0m\n",
            "\u001b[32m[I 2019-12-12 09:54:46,744]\u001b[0m Finished trial#42 resulted in value: 0.20833333333333334. Current best value is 0.2791666666666666 with parameters: {'classifier': 'SVC', 'svc_c': 2.328258225936169}.\u001b[0m\n",
            "\u001b[32m[I 2019-12-12 09:54:48,799]\u001b[0m Finished trial#43 resulted in value: 0.2541666666666667. Current best value is 0.2791666666666666 with parameters: {'classifier': 'SVC', 'svc_c': 2.328258225936169}.\u001b[0m\n",
            "\u001b[32m[I 2019-12-12 09:54:50,853]\u001b[0m Finished trial#44 resulted in value: 0.22916666666666666. Current best value is 0.2791666666666666 with parameters: {'classifier': 'SVC', 'svc_c': 2.328258225936169}.\u001b[0m\n",
            "\u001b[32m[I 2019-12-12 09:54:53,277]\u001b[0m Finished trial#45 resulted in value: 0.19999999999999998. Current best value is 0.2791666666666666 with parameters: {'classifier': 'SVC', 'svc_c': 2.328258225936169}.\u001b[0m\n",
            "\u001b[32m[I 2019-12-12 09:54:55,364]\u001b[0m Finished trial#46 resulted in value: 0.22916666666666666. Current best value is 0.2791666666666666 with parameters: {'classifier': 'SVC', 'svc_c': 2.328258225936169}.\u001b[0m\n",
            "\u001b[32m[I 2019-12-12 09:54:57,405]\u001b[0m Finished trial#47 resulted in value: 0.20833333333333334. Current best value is 0.2791666666666666 with parameters: {'classifier': 'SVC', 'svc_c': 2.328258225936169}.\u001b[0m\n",
            "\u001b[32m[I 2019-12-12 09:54:59,453]\u001b[0m Finished trial#48 resulted in value: 0.2625. Current best value is 0.2791666666666666 with parameters: {'classifier': 'SVC', 'svc_c': 2.328258225936169}.\u001b[0m\n",
            "\u001b[32m[I 2019-12-12 09:55:01,510]\u001b[0m Finished trial#49 resulted in value: 0.20833333333333334. Current best value is 0.2791666666666666 with parameters: {'classifier': 'SVC', 'svc_c': 2.328258225936169}.\u001b[0m\n",
            "\u001b[32m[I 2019-12-12 09:55:03,607]\u001b[0m Finished trial#50 resulted in value: 0.22916666666666666. Current best value is 0.2791666666666666 with parameters: {'classifier': 'SVC', 'svc_c': 2.328258225936169}.\u001b[0m\n",
            "\u001b[32m[I 2019-12-12 09:55:05,648]\u001b[0m Finished trial#51 resulted in value: 0.2125. Current best value is 0.2791666666666666 with parameters: {'classifier': 'SVC', 'svc_c': 2.328258225936169}.\u001b[0m\n",
            "\u001b[32m[I 2019-12-12 09:55:07,691]\u001b[0m Finished trial#52 resulted in value: 0.22916666666666666. Current best value is 0.2791666666666666 with parameters: {'classifier': 'SVC', 'svc_c': 2.328258225936169}.\u001b[0m\n",
            "\u001b[32m[I 2019-12-12 09:55:09,726]\u001b[0m Finished trial#53 resulted in value: 0.26666666666666666. Current best value is 0.2791666666666666 with parameters: {'classifier': 'SVC', 'svc_c': 2.328258225936169}.\u001b[0m\n",
            "\u001b[32m[I 2019-12-12 09:55:11,797]\u001b[0m Finished trial#54 resulted in value: 0.20833333333333334. Current best value is 0.2791666666666666 with parameters: {'classifier': 'SVC', 'svc_c': 2.328258225936169}.\u001b[0m\n",
            "\u001b[32m[I 2019-12-12 09:55:13,895]\u001b[0m Finished trial#55 resulted in value: 0.22916666666666666. Current best value is 0.2791666666666666 with parameters: {'classifier': 'SVC', 'svc_c': 2.328258225936169}.\u001b[0m\n",
            "\u001b[32m[I 2019-12-12 09:55:15,960]\u001b[0m Finished trial#56 resulted in value: 0.24583333333333335. Current best value is 0.2791666666666666 with parameters: {'classifier': 'SVC', 'svc_c': 2.328258225936169}.\u001b[0m\n",
            "\u001b[32m[I 2019-12-12 09:55:18,019]\u001b[0m Finished trial#57 resulted in value: 0.20833333333333334. Current best value is 0.2791666666666666 with parameters: {'classifier': 'SVC', 'svc_c': 2.328258225936169}.\u001b[0m\n",
            "\u001b[32m[I 2019-12-12 09:55:20,483]\u001b[0m Finished trial#58 resulted in value: 0.225. Current best value is 0.2791666666666666 with parameters: {'classifier': 'SVC', 'svc_c': 2.328258225936169}.\u001b[0m\n",
            "\u001b[32m[I 2019-12-12 09:55:22,550]\u001b[0m Finished trial#59 resulted in value: 0.22916666666666666. Current best value is 0.2791666666666666 with parameters: {'classifier': 'SVC', 'svc_c': 2.328258225936169}.\u001b[0m\n",
            "\u001b[32m[I 2019-12-12 09:55:24,590]\u001b[0m Finished trial#60 resulted in value: 0.20833333333333334. Current best value is 0.2791666666666666 with parameters: {'classifier': 'SVC', 'svc_c': 2.328258225936169}.\u001b[0m\n",
            "\u001b[32m[I 2019-12-12 09:55:26,642]\u001b[0m Finished trial#61 resulted in value: 0.27499999999999997. Current best value is 0.2791666666666666 with parameters: {'classifier': 'SVC', 'svc_c': 2.328258225936169}.\u001b[0m\n",
            "\u001b[32m[I 2019-12-12 09:55:28,688]\u001b[0m Finished trial#62 resulted in value: 0.2708333333333333. Current best value is 0.2791666666666666 with parameters: {'classifier': 'SVC', 'svc_c': 2.328258225936169}.\u001b[0m\n",
            "\u001b[32m[I 2019-12-12 09:55:30,731]\u001b[0m Finished trial#63 resulted in value: 0.23749999999999996. Current best value is 0.2791666666666666 with parameters: {'classifier': 'SVC', 'svc_c': 2.328258225936169}.\u001b[0m\n",
            "\u001b[32m[I 2019-12-12 09:55:32,793]\u001b[0m Finished trial#64 resulted in value: 0.2708333333333333. Current best value is 0.2791666666666666 with parameters: {'classifier': 'SVC', 'svc_c': 2.328258225936169}.\u001b[0m\n",
            "\u001b[32m[I 2019-12-12 09:55:34,851]\u001b[0m Finished trial#65 resulted in value: 0.20833333333333334. Current best value is 0.2791666666666666 with parameters: {'classifier': 'SVC', 'svc_c': 2.328258225936169}.\u001b[0m\n",
            "\u001b[32m[I 2019-12-12 09:55:36,893]\u001b[0m Finished trial#66 resulted in value: 0.22916666666666666. Current best value is 0.2791666666666666 with parameters: {'classifier': 'SVC', 'svc_c': 2.328258225936169}.\u001b[0m\n",
            "\u001b[32m[I 2019-12-12 09:55:38,931]\u001b[0m Finished trial#67 resulted in value: 0.20833333333333334. Current best value is 0.2791666666666666 with parameters: {'classifier': 'SVC', 'svc_c': 2.328258225936169}.\u001b[0m\n",
            "\u001b[32m[I 2019-12-12 09:55:40,986]\u001b[0m Finished trial#68 resulted in value: 0.20833333333333334. Current best value is 0.2791666666666666 with parameters: {'classifier': 'SVC', 'svc_c': 2.328258225936169}.\u001b[0m\n",
            "\u001b[32m[I 2019-12-12 09:55:43,035]\u001b[0m Finished trial#69 resulted in value: 0.22916666666666666. Current best value is 0.2791666666666666 with parameters: {'classifier': 'SVC', 'svc_c': 2.328258225936169}.\u001b[0m\n",
            "\u001b[32m[I 2019-12-12 09:55:45,104]\u001b[0m Finished trial#70 resulted in value: 0.25000000000000006. Current best value is 0.2791666666666666 with parameters: {'classifier': 'SVC', 'svc_c': 2.328258225936169}.\u001b[0m\n",
            "\u001b[32m[I 2019-12-12 09:55:47,173]\u001b[0m Finished trial#71 resulted in value: 0.26666666666666666. Current best value is 0.2791666666666666 with parameters: {'classifier': 'SVC', 'svc_c': 2.328258225936169}.\u001b[0m\n",
            "\u001b[32m[I 2019-12-12 09:55:49,240]\u001b[0m Finished trial#72 resulted in value: 0.2708333333333333. Current best value is 0.2791666666666666 with parameters: {'classifier': 'SVC', 'svc_c': 2.328258225936169}.\u001b[0m\n",
            "\u001b[32m[I 2019-12-12 09:55:51,304]\u001b[0m Finished trial#73 resulted in value: 0.20833333333333334. Current best value is 0.2791666666666666 with parameters: {'classifier': 'SVC', 'svc_c': 2.328258225936169}.\u001b[0m\n",
            "\u001b[32m[I 2019-12-12 09:55:53,380]\u001b[0m Finished trial#74 resulted in value: 0.23749999999999996. Current best value is 0.2791666666666666 with parameters: {'classifier': 'SVC', 'svc_c': 2.328258225936169}.\u001b[0m\n",
            "\u001b[32m[I 2019-12-12 09:55:55,439]\u001b[0m Finished trial#75 resulted in value: 0.22916666666666666. Current best value is 0.2791666666666666 with parameters: {'classifier': 'SVC', 'svc_c': 2.328258225936169}.\u001b[0m\n",
            "\u001b[32m[I 2019-12-12 09:55:57,494]\u001b[0m Finished trial#76 resulted in value: 0.22916666666666666. Current best value is 0.2791666666666666 with parameters: {'classifier': 'SVC', 'svc_c': 2.328258225936169}.\u001b[0m\n",
            "\u001b[32m[I 2019-12-12 09:55:59,544]\u001b[0m Finished trial#77 resulted in value: 0.2125. Current best value is 0.2791666666666666 with parameters: {'classifier': 'SVC', 'svc_c': 2.328258225936169}.\u001b[0m\n",
            "\u001b[32m[I 2019-12-12 09:56:01,603]\u001b[0m Finished trial#78 resulted in value: 0.22916666666666666. Current best value is 0.2791666666666666 with parameters: {'classifier': 'SVC', 'svc_c': 2.328258225936169}.\u001b[0m\n",
            "\u001b[32m[I 2019-12-12 09:56:03,685]\u001b[0m Finished trial#79 resulted in value: 0.20833333333333334. Current best value is 0.2791666666666666 with parameters: {'classifier': 'SVC', 'svc_c': 2.328258225936169}.\u001b[0m\n",
            "\u001b[32m[I 2019-12-12 09:56:06,183]\u001b[0m Finished trial#80 resulted in value: 0.19999999999999998. Current best value is 0.2791666666666666 with parameters: {'classifier': 'SVC', 'svc_c': 2.328258225936169}.\u001b[0m\n",
            "\u001b[32m[I 2019-12-12 09:56:08,226]\u001b[0m Finished trial#81 resulted in value: 0.2708333333333333. Current best value is 0.2791666666666666 with parameters: {'classifier': 'SVC', 'svc_c': 2.328258225936169}.\u001b[0m\n",
            "\u001b[32m[I 2019-12-12 09:56:10,280]\u001b[0m Finished trial#82 resulted in value: 0.24583333333333335. Current best value is 0.2791666666666666 with parameters: {'classifier': 'SVC', 'svc_c': 2.328258225936169}.\u001b[0m\n",
            "\u001b[32m[I 2019-12-12 09:56:12,357]\u001b[0m Finished trial#83 resulted in value: 0.26666666666666666. Current best value is 0.2791666666666666 with parameters: {'classifier': 'SVC', 'svc_c': 2.328258225936169}.\u001b[0m\n",
            "\u001b[32m[I 2019-12-12 09:56:14,483]\u001b[0m Finished trial#84 resulted in value: 0.22916666666666666. Current best value is 0.2791666666666666 with parameters: {'classifier': 'SVC', 'svc_c': 2.328258225936169}.\u001b[0m\n",
            "\u001b[32m[I 2019-12-12 09:56:16,570]\u001b[0m Finished trial#85 resulted in value: 0.20833333333333334. Current best value is 0.2791666666666666 with parameters: {'classifier': 'SVC', 'svc_c': 2.328258225936169}.\u001b[0m\n",
            "\u001b[32m[I 2019-12-12 09:56:18,667]\u001b[0m Finished trial#86 resulted in value: 0.20833333333333334. Current best value is 0.2791666666666666 with parameters: {'classifier': 'SVC', 'svc_c': 2.328258225936169}.\u001b[0m\n",
            "\u001b[32m[I 2019-12-12 09:56:20,746]\u001b[0m Finished trial#87 resulted in value: 0.22916666666666666. Current best value is 0.2791666666666666 with parameters: {'classifier': 'SVC', 'svc_c': 2.328258225936169}.\u001b[0m\n",
            "\u001b[32m[I 2019-12-12 09:56:22,790]\u001b[0m Finished trial#88 resulted in value: 0.20833333333333334. Current best value is 0.2791666666666666 with parameters: {'classifier': 'SVC', 'svc_c': 2.328258225936169}.\u001b[0m\n",
            "\u001b[32m[I 2019-12-12 09:56:24,844]\u001b[0m Finished trial#89 resulted in value: 0.26666666666666666. Current best value is 0.2791666666666666 with parameters: {'classifier': 'SVC', 'svc_c': 2.328258225936169}.\u001b[0m\n",
            "\u001b[32m[I 2019-12-12 09:56:26,920]\u001b[0m Finished trial#90 resulted in value: 0.2333333333333333. Current best value is 0.2791666666666666 with parameters: {'classifier': 'SVC', 'svc_c': 2.328258225936169}.\u001b[0m\n",
            "\u001b[32m[I 2019-12-12 09:56:28,978]\u001b[0m Finished trial#91 resulted in value: 0.2625. Current best value is 0.2791666666666666 with parameters: {'classifier': 'SVC', 'svc_c': 2.328258225936169}.\u001b[0m\n",
            "\u001b[32m[I 2019-12-12 09:56:31,058]\u001b[0m Finished trial#92 resulted in value: 0.20833333333333334. Current best value is 0.2791666666666666 with parameters: {'classifier': 'SVC', 'svc_c': 2.328258225936169}.\u001b[0m\n",
            "\u001b[32m[I 2019-12-12 09:56:33,144]\u001b[0m Finished trial#93 resulted in value: 0.26666666666666666. Current best value is 0.2791666666666666 with parameters: {'classifier': 'SVC', 'svc_c': 2.328258225936169}.\u001b[0m\n",
            "\u001b[32m[I 2019-12-12 09:56:35,197]\u001b[0m Finished trial#94 resulted in value: 0.22916666666666666. Current best value is 0.2791666666666666 with parameters: {'classifier': 'SVC', 'svc_c': 2.328258225936169}.\u001b[0m\n",
            "\u001b[32m[I 2019-12-12 09:56:37,275]\u001b[0m Finished trial#95 resulted in value: 0.20833333333333334. Current best value is 0.2791666666666666 with parameters: {'classifier': 'SVC', 'svc_c': 2.328258225936169}.\u001b[0m\n",
            "\u001b[32m[I 2019-12-12 09:56:39,334]\u001b[0m Finished trial#96 resulted in value: 0.2625. Current best value is 0.2791666666666666 with parameters: {'classifier': 'SVC', 'svc_c': 2.328258225936169}.\u001b[0m\n",
            "\u001b[32m[I 2019-12-12 09:56:41,408]\u001b[0m Finished trial#97 resulted in value: 0.20833333333333334. Current best value is 0.2791666666666666 with parameters: {'classifier': 'SVC', 'svc_c': 2.328258225936169}.\u001b[0m\n",
            "\u001b[32m[I 2019-12-12 09:56:43,458]\u001b[0m Finished trial#98 resulted in value: 0.2625. Current best value is 0.2791666666666666 with parameters: {'classifier': 'SVC', 'svc_c': 2.328258225936169}.\u001b[0m\n",
            "\u001b[32m[I 2019-12-12 09:56:45,497]\u001b[0m Finished trial#99 resulted in value: 0.23749999999999996. Current best value is 0.2791666666666666 with parameters: {'classifier': 'SVC', 'svc_c': 2.328258225936169}.\u001b[0m\n"
          ],
          "name": "stderr"
        },
        {
          "output_type": "stream",
          "text": [
            "FrozenTrial(number=31, state=TrialState.COMPLETE, value=0.2791666666666666, datetime_start=datetime.datetime(2019, 12, 12, 9, 54, 21, 272936), datetime_complete=datetime.datetime(2019, 12, 12, 9, 54, 23, 315307), params={'classifier': 'SVC', 'svc_c': 2.328258225936169}, distributions={'classifier': CategoricalDistribution(choices=('SVC', 'RandomForest')), 'svc_c': LogUniformDistribution(high=10000000000.0, low=1e-10)}, user_attrs={}, system_attrs={'_number': 31}, intermediate_values={}, trial_id=31)\n"
          ],
          "name": "stdout"
        }
      ]
    },
    {
      "cell_type": "code",
      "metadata": {
        "id": "qcm5EdiaGltb",
        "colab_type": "code",
        "colab": {}
      },
      "source": [
        ""
      ],
      "execution_count": 0,
      "outputs": []
    }
  ]
}